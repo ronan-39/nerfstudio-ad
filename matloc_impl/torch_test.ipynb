{
 "cells": [
  {
   "cell_type": "code",
   "execution_count": 21,
   "metadata": {},
   "outputs": [],
   "source": [
    "from pathlib import Path\n",
    "import nerfstudio\n",
    "from nerfstudio.utils.eval_utils import eval_setup\n",
    "import torch\n",
    "from torchsummary import summary"
   ]
  },
  {
   "cell_type": "code",
   "execution_count": 48,
   "metadata": {},
   "outputs": [
    {
     "data": {
      "text/html": [
       "<pre style=\"white-space:pre;overflow-x:auto;line-height:normal;font-family:Menlo,'DejaVu Sans Mono',consolas,'Courier New',monospace\">Skipping <span style=\"color: #008080; text-decoration-color: #008080; font-weight: bold\">0</span> files in dataset split train.\n",
       "</pre>\n"
      ],
      "text/plain": [
       "Skipping \u001b[1;36m0\u001b[0m files in dataset split train.\n"
      ]
     },
     "metadata": {},
     "output_type": "display_data"
    },
    {
     "data": {
      "text/html": [
       "<pre style=\"white-space:pre;overflow-x:auto;line-height:normal;font-family:Menlo,'DejaVu Sans Mono',consolas,'Courier New',monospace\">Skipping <span style=\"color: #008080; text-decoration-color: #008080; font-weight: bold\">0</span> files in dataset split test.\n",
       "</pre>\n"
      ],
      "text/plain": [
       "Skipping \u001b[1;36m0\u001b[0m files in dataset split test.\n"
      ]
     },
     "metadata": {},
     "output_type": "display_data"
    },
    {
     "data": {
      "text/html": [
       "<pre style=\"white-space:pre;overflow-x:auto;line-height:normal;font-family:Menlo,'DejaVu Sans Mono',consolas,'Courier New',monospace\">Skipping <span style=\"color: #008080; text-decoration-color: #008080; font-weight: bold\">0</span> files in dataset split test.\n",
       "</pre>\n"
      ],
      "text/plain": [
       "Skipping \u001b[1;36m0\u001b[0m files in dataset split test.\n"
      ]
     },
     "metadata": {},
     "output_type": "display_data"
    },
    {
     "data": {
      "text/html": [
       "<pre style=\"white-space:pre;overflow-x:auto;line-height:normal;font-family:Menlo,'DejaVu Sans Mono',consolas,'Courier New',monospace\">Loading latest checkpoint from load_dir\n",
       "</pre>\n"
      ],
      "text/plain": [
       "Loading latest checkpoint from load_dir\n"
      ]
     },
     "metadata": {},
     "output_type": "display_data"
    },
    {
     "data": {
      "text/html": [
       "<pre style=\"white-space:pre;overflow-x:auto;line-height:normal;font-family:Menlo,'DejaVu Sans Mono',consolas,'Courier New',monospace\">✅ Done loading checkpoint from \n",
       "<span style=\"color: #800080; text-decoration-color: #800080\">/home/ronanjohn/Documents/datasets/MAD-Sim/01Gorilla/outputs/gorilla_torch/nerfacto/2024-08-09_123452/nerfstudio_models/</span>\n",
       "<span style=\"color: #ff00ff; text-decoration-color: #ff00ff\">step-000029999.ckpt</span>\n",
       "</pre>\n"
      ],
      "text/plain": [
       "✅ Done loading checkpoint from \n",
       "\u001b[35m/home/ronanjohn/Documents/datasets/MAD-Sim/01Gorilla/outputs/gorilla_torch/nerfacto/2024-08-09_123452/nerfstudio_models/\u001b[0m\n",
       "\u001b[95mstep-000029999.ckpt\u001b[0m\n"
      ]
     },
     "metadata": {},
     "output_type": "display_data"
    }
   ],
   "source": [
    "model_path = Path.home().joinpath(\"Documents/datasets/MAD-Sim/01Gorilla/outputs/gorilla_torch/nerfacto/2024-08-09_123452/config.yml\")\n",
    "\n",
    "config, pipeline, _, _ = eval_setup(\n",
    "        config_path=model_path,\n",
    "        test_mode='inference'\n",
    ")"
   ]
  },
  {
   "cell_type": "code",
   "execution_count": 51,
   "metadata": {},
   "outputs": [
    {
     "name": "stdout",
     "output_type": "stream",
     "text": [
      "<class 'torch.Tensor'>\n",
      "----------------------------------------------------------------\n",
      "        Layer (type)               Output Shape         Param #\n",
      "================================================================\n",
      "      HashEncoding-1                [-1, 1, 32]               0\n",
      "            Linear-2                [-1, 1, 64]           2,112\n",
      "              ReLU-3                [-1, 1, 64]               0\n",
      "              ReLU-4                [-1, 1, 64]               0\n",
      "            Linear-5                [-1, 1, 16]           1,040\n",
      "               MLP-6                [-1, 1, 16]               0\n",
      "================================================================\n",
      "Total params: 3,152\n",
      "Trainable params: 3,152\n",
      "Non-trainable params: 0\n",
      "----------------------------------------------------------------\n",
      "Input size (MB): 0.00\n",
      "Forward/backward pass size (MB): 0.00\n",
      "Params size (MB): 0.01\n",
      "Estimated Total Size (MB): 0.01\n",
      "----------------------------------------------------------------\n"
     ]
    }
   ],
   "source": [
    "field = pipeline.model.field\n",
    "\n",
    "# print(dir(field.mlp_base))\n",
    "# print(field.mlp_base)\n",
    "# print(field.mlp_base.model[1].layers)\n",
    "# print(field.mlp_head)\n",
    "\n",
    "activations = {}\n",
    "def layer_hook(name):\n",
    "    def hook(model, input, output):\n",
    "        print(type(output))\n",
    "        activations[name] = output.detach()\n",
    "    return hook\n",
    "\n",
    "\n",
    "h = field.mlp_base.model[1].layers[0].register_forward_hook(layer_hook('base_0'))\n",
    "summary(field.mlp_base, (1,3))\n",
    "h.remove()\n"
   ]
  }
 ],
 "metadata": {
  "kernelspec": {
   "display_name": "nerfstudio_ad",
   "language": "python",
   "name": "python3"
  },
  "language_info": {
   "codemirror_mode": {
    "name": "ipython",
    "version": 3
   },
   "file_extension": ".py",
   "mimetype": "text/x-python",
   "name": "python",
   "nbconvert_exporter": "python",
   "pygments_lexer": "ipython3",
   "version": "3.8.19"
  }
 },
 "nbformat": 4,
 "nbformat_minor": 2
}
